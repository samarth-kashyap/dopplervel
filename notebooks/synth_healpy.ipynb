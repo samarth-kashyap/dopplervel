{
 "cells": [
  {
   "cell_type": "code",
   "execution_count": 1,
   "metadata": {},
   "outputs": [],
   "source": [
    "from astropy.io import fits\n",
    "from scipy.spatial.transform import Rotation as R\n",
    "from math import sqrt, pi\n",
    "import healpy as hp\n",
    "import numpy as np\n",
    "import pickle\n",
    "import time\n",
    "\n",
    "import sys; sys.path.append(\"/home/samarth/\")\n",
    "from heliosPy import iofuncs as cio\n",
    "NSIDE = 128"
   ]
  },
  {
   "cell_type": "code",
   "execution_count": 10,
   "metadata": {},
   "outputs": [],
   "source": [
    "import matplotlib.pyplot as plt\n",
    "%matplotlib widget"
   ]
  },
  {
   "cell_type": "code",
   "execution_count": 3,
   "metadata": {},
   "outputs": [],
   "source": [
    "def make_map(theta, phi, data, NSIDE):\n",
    "    assert len(theta) == len(phi) == len(data)\n",
    "    numPix = hp.nside2npix(NSIDE)\n",
    "    e1map = np.full(numPix, hp.UNSEEN, dtype=np.float)\n",
    "    existance = np.full(numPix, False, dtype=np.bool)\n",
    "    counts = np.ones(numPix, dtype=np.int)\n",
    "    \n",
    "    thetaNew = np.zeros(numPix)\n",
    "    phiNew = np.zeros(numPix)\n",
    "    \n",
    "    for i,k in enumerate(data):\n",
    "        index = hp.ang2pix(NSIDE, theta[i], phi[i])\n",
    "        thetaNew[index], phiNew[index] = hp.pix2ang(NSIDE, index)\n",
    "        if not existance[index]:\n",
    "            e1map[index] = 0\n",
    "            counts[index] = 0\n",
    "            existance[index] = True\n",
    "        e1map[index] += k\n",
    "        counts[index] += 1\n",
    "    return e1map/counts, existance, thetaNew, phiNew\n",
    "\n",
    "def make_map_vec(theta, phi, data, NSIDE):\n",
    "    assert len(theta) == len(phi) == len(data)\n",
    "    e1map = np.full(hp.nside2npix(NSIDE), hp.UNSEEN, dtype=np.float)\n",
    "    existance = np.full(hp.nside2npix(NSIDE), False, dtype=np.bool)\n",
    "    print(f\"map shape = {e1map.shape}, data shape = {len(data)}\")\n",
    "    indexArr = hp.ang2pix(NSIDE, theta, phi)\n",
    "    e1map[indexArr] = data\n",
    "    existance[indexArr] = True\n",
    "    return e1map, existance"
   ]
  },
  {
   "cell_type": "code",
   "execution_count": 4,
   "metadata": {},
   "outputs": [],
   "source": [
    "def rotate_map_spin_eul(hmap, eulAngle):\n",
    "    \"\"\"\n",
    "    Take hmap (a healpix map array) and return another healpix map array \n",
    "    which is ordered such that it has been rotated in (theta, phi) by the \n",
    "    amounts given.\n",
    "    \"\"\"\n",
    "    nside = hp.npix2nside(len(hmap[0]))\n",
    "\n",
    "    # Get theta, phi for non-rotated map\n",
    "    t,p = hp.pix2ang(nside, np.arange(hp.nside2npix(nside))) #theta, phi\n",
    "    ct, cp, st, sp = np.cos(t), np.cos(p), np.sin(t), np.sin(p)\n",
    "    vt = np.array([ct*cp, ct*sp, -st])\n",
    "    vp = np.array([-sp, cp, 0.0*cp])\n",
    "    \n",
    "    # Define a rotator\n",
    "    r = hp.rotator.Rotator(eulAngle, deg=False, eulertype='zxz')\n",
    "\n",
    "    # Get theta, phi under rotated co-ordinates\n",
    "    trot, prot = r(t,p)\n",
    "    ctR, cpR, stR, spR = np.cos(trot), np.cos(prot), np.sin(trot), np.sin(prot)\n",
    "    vtR = np.array([ctR*cpR, ctR*spR, -stR])\n",
    "    vpR = np.array([-spR, cpR, 0.0*cpR])\n",
    "    rotMat = R.from_euler('zxz', eulAngle).as_dcm()\n",
    "    vtR = vtR.transpose().dot(rotMat).transpose()\n",
    "    vpR = vpR.transpose().dot(rotMat).transpose()\n",
    "\n",
    "    # Interpolate map onto these co-ordinates\n",
    "    rot_map0temp = hp.get_interp_val(hmap[0], trot, prot)\n",
    "    rot_map1temp = hp.get_interp_val(hmap[1], trot, prot)\n",
    "    \n",
    "    rot_map0 = (vt*vpR).sum(axis=0) * rot_map0temp + (vp*vpR).sum(axis=0) * rot_map1temp\n",
    "    rot_map1 = (vt*vtR).sum(axis=0) * rot_map0temp + (vp*vtR).sum(axis=0) * rot_map1temp\n",
    "\n",
    "    return rot_map0, rot_map1\n",
    "\n",
    "\n",
    "def rotate_map_spin(hmap, rot_theta, rot_phi):\n",
    "    \"\"\"\n",
    "    Take hmap (a healpix map array) and return another healpix map array \n",
    "    which is ordered such that it has been rotated in (theta, phi) by the \n",
    "    amounts given.\n",
    "    \"\"\"\n",
    "    nside = hp.npix2nside(len(hmap[0]))\n",
    "\n",
    "    # Get theta, phi for non-rotated map\n",
    "    t,p = hp.pix2ang(nside, np.arange(hp.nside2npix(nside))) #theta, phi\n",
    "    ct, cp, st, sp = np.cos(t), np.cos(p), np.sin(t), np.sin(p)\n",
    "    vt = np.array([ct*cp, ct*sp, -st])\n",
    "    vp = np.array([-sp, cp, 0.0*cp])\n",
    "    \n",
    "\n",
    "    # Define a rotator\n",
    "    r = hp.Rotator(deg=False, rot=[rot_phi,rot_theta])\n",
    "\n",
    "    # Get theta, phi under rotated co-ordinates\n",
    "    trot, prot = r(t,p)\n",
    "    ctR, cpR, stR, spR = np.cos(trot), np.cos(prot), np.sin(trot), np.sin(prot)\n",
    "    vtR = np.array([ctR*cpR, ctR*spR, -stR])\n",
    "    vpR = np.array([-spR, cpR, 0.0*cpR])\n",
    "\n",
    "    # Interpolate map onto these co-ordinates\n",
    "    rot_map0temp = hp.get_interp_val(hmap[0], trot, prot)\n",
    "    rot_map1temp = hp.get_interp_val(hmap[1], trot, prot)\n",
    "    \n",
    "    rot_map0 = (vt*vpR).sum(axis=0) * rot_map0temp + (vp*vpR).sum(axis=0) * rot_map1temp\n",
    "    rot_map1 = (vt*vtR).sum(axis=0) * rot_map0temp + (vp*vtR).sum(axis=0) * rot_map1temp\n",
    "\n",
    "    return rot_map0, rot_map1\n",
    "\n",
    "def rotate_map(hmap, rot_theta, rot_phi):\n",
    "    \"\"\"\n",
    "    Take hmap (a healpix map array) and return another healpix map array \n",
    "    which is ordered such that it has been rotated in (theta, phi) by the \n",
    "    amounts given.\n",
    "    \"\"\"\n",
    "    nside = hp.npix2nside(len(hmap))\n",
    "\n",
    "    # Get theta, phi for non-rotated map\n",
    "    t,p = hp.pix2ang(nside, np.arange(hp.nside2npix(nside))) #theta, phi\n",
    "\n",
    "    # Define a rotator\n",
    "    r = hp.Rotator(deg=False, rot=[rot_phi,rot_theta])\n",
    "\n",
    "    # Get theta, phi under rotated co-ordinates\n",
    "    trot, prot = r(t,p)\n",
    "\n",
    "    # Interpolate map onto these co-ordinates\n",
    "    rot_map = hp.get_interp_val(hmap, trot, prot)\n",
    "\n",
    "    return rot_map\n",
    "\n",
    "def get_alm_len(NPIX):\n",
    "    maptemp = np.random.rand(NPIX)\n",
    "    alm = hp.map2alm(maptemp)\n",
    "    return alm.shape[0]\n",
    "\n",
    "def scale_alm_r(ellArr, ellmax, alm):\n",
    "    almtemp = alm.copy()\n",
    "    for i in range(1, ellmax+1):\n",
    "        _ind = ellArr==i\n",
    "        almtemp[_ind] = almtemp[_ind]\n",
    "    return almtemp\n",
    "\n",
    "def scale_alm_pol(ellArr, ellmax, alm):\n",
    "    almtemp = alm.copy()\n",
    "    for i in range(1, ellmax+1):\n",
    "        _ind = ellArr==i\n",
    "        almtemp[_ind] = almtemp[_ind] * 4\n",
    "    return almtemp\n",
    "\n",
    "def scale_alm_tor(ellArr, ellmax, alm):\n",
    "    almtemp = alm.copy()\n",
    "    for i in range(1, ellmax+1):\n",
    "        _ind = ellArr==i\n",
    "        almtemp[_ind] = almtemp[_ind] * 2\n",
    "#        almtemp[_ind] = almtemp[_ind] * ( (i)**2) / 60\n",
    "#        almtemp[_ind] = (i**(1/20))*10\n",
    "    return almtemp"
   ]
  },
  {
   "cell_type": "code",
   "execution_count": 5,
   "metadata": {},
   "outputs": [],
   "source": [
    "NPIX = hp.nside2npix(NSIDE)\n",
    "almSize = get_alm_len(NPIX)\n",
    "alm = ( np.random.rand(almSize) - 0.5 ) + \\\n",
    "    1j*( np.random.rand(almSize) - 0.5 )\n",
    "ellmax = hp.sphtfunc.Alm.getlmax(almSize)\n",
    "ell = np.arange(ellmax+1)\n",
    "ellArr, emmArr = hp.sphtfunc.Alm.getlm(ellmax)\n",
    "almr = scale_alm_r(ellArr, ellmax, alm)\n",
    "almt = scale_alm_tor(ellArr, ellmax, alm)\n",
    "almp = scale_alm_pol(ellArr, ellmax, alm)"
   ]
  },
  {
   "cell_type": "code",
   "execution_count": 6,
   "metadata": {},
   "outputs": [
    {
     "name": "stdout",
     "output_type": "stream",
     "text": [
      "Sigma is 0.000000 arcmin (0.000000 rad) \n",
      "-> fwhm is 0.000000 arcmin\n",
      "Sigma is 0.000000 arcmin (0.000000 rad) \n",
      "-> fwhm is 0.000000 arcmin\n",
      "Sigma is 0.000000 arcmin (0.000000 rad) \n",
      "-> fwhm is 0.000000 arcmin\n"
     ]
    },
    {
     "data": {
      "image/png": "[encoded data removed]",
      "text/plain": [
       "<Figure size 432x288 with 1 Axes>"
      ]
     },
     "metadata": {
      "needs_background": "light"
     },
     "output_type": "display_data"
    }
   ],
   "source": [
    "psr = hp.anafast(hp.alm2map(almr, NSIDE))\n",
    "pst = hp.anafast(hp.alm2map(almt, NSIDE))\n",
    "psp = hp.anafast(hp.alm2map(almp, NSIDE))\n",
    "\n",
    "plt.figure()\n",
    "plt.loglog(np.sqrt(psr * (ell + 1) ) , 'g')\n",
    "plt.loglog(np.sqrt(pst * (ell + 1) ) , 'b')\n",
    "plt.loglog(np.sqrt(psp * (ell + 1) ) , 'r')\n",
    "plt.show()"
   ]
  },
  {
   "cell_type": "code",
   "execution_count": 7,
   "metadata": {},
   "outputs": [
    {
     "name": "stdout",
     "output_type": "stream",
     "text": [
      "Sigma is 0.000000 arcmin (0.000000 rad) \n",
      "-> fwhm is 0.000000 arcmin\n"
     ]
    }
   ],
   "source": [
    "almp = almt + 1j*almp\n",
    "almm = almt - 1j*almp\n",
    "mapr = hp.alm2map(almr, NSIDE)\n",
    "maph = hp.alm2map_spin([almp, almm], NSIDE, 1, ellmax)\n"
   ]
  },
  {
   "cell_type": "code",
   "execution_count": 11,
   "metadata": {},
   "outputs": [
    {
     "data": {
      "application/vnd.jupyter.widget-view+json": {
       "model_id": "928b1f105b004f21bf1dc7c1975839f4",
       "version_major": 2,
       "version_minor": 0
      },
      "text/plain": [
       "Canvas(toolbar=Toolbar(toolitems=[('Home', 'Reset original view', 'home', 'home'), ('Back', 'Back to previous …"
      ]
     },
     "metadata": {},
     "output_type": "display_data"
    },
    {
     "data": {
      "application/vnd.jupyter.widget-view+json": {
       "model_id": "b24237d72d504863b2fd296f727e1afd",
       "version_major": 2,
       "version_minor": 0
      },
      "text/plain": [
       "Canvas(toolbar=Toolbar(toolitems=[('Home', 'Reset original view', 'home', 'home'), ('Back', 'Back to previous …"
      ]
     },
     "metadata": {},
     "output_type": "display_data"
    },
    {
     "data": {
      "application/vnd.jupyter.widget-view+json": {
       "model_id": "f2561dc7b5ba4516af512a8d74d38972",
       "version_major": 2,
       "version_minor": 0
      },
      "text/plain": [
       "Canvas(toolbar=Toolbar(toolitems=[('Home', 'Reset original view', 'home', 'home'), ('Back', 'Back to previous …"
      ]
     },
     "metadata": {},
     "output_type": "display_data"
    }
   ],
   "source": [
    "hp.cartview(mapr, cmap='seismic')\n",
    "hp.cartview(maph[0] + maph[1], cmap='seismic')\n",
    "hp.cartview(maph[0] - maph[1], cmap='seismic')"
   ]
  },
  {
   "cell_type": "code",
   "execution_count": null,
   "metadata": {},
   "outputs": [],
   "source": []
  }
 ],
 "metadata": {
  "kernelspec": {
   "display_name": "Python 3",
   "language": "python",
   "name": "python3"
  },
  "language_info": {
   "codemirror_mode": {
    "name": "ipython",
    "version": 3
   },
   "file_extension": ".py",
   "mimetype": "text/x-python",
   "name": "python",
   "nbconvert_exporter": "python",
   "pygments_lexer": "ipython3",
   "version": "3.7.3"
  }
 },
 "nbformat": 4,
 "nbformat_minor": 4
}
