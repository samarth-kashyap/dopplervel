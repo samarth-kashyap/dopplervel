{
 "cells": [
  {
   "cell_type": "code",
   "execution_count": 1,
   "metadata": {},
   "outputs": [],
   "source": [
    "import numpy as np\n",
    "import matplotlib.pyplot as plt\n",
    "import warnings\n",
    "warnings.filterwarnings('ignore')\n",
    "%matplotlib widget \n",
    "%load_ext autoreload\n",
    "%autoreload 2"
   ]
  },
  {
   "cell_type": "code",
   "execution_count": 2,
   "metadata": {},
   "outputs": [
    {
     "name": "stdout",
     "output_type": "stream",
     "text": [
      "/home/g.samarth/dopplervel2\n"
     ]
    }
   ],
   "source": [
    "cd dopplervel2/"
   ]
  },
  {
   "cell_type": "code",
   "execution_count": null,
   "metadata": {},
   "outputs": [],
   "source": [
    "%run vec_magneto.py"
   ]
  },
  {
   "cell_type": "code",
   "execution_count": 6,
   "metadata": {},
   "outputs": [
    {
     "name": "stdout",
     "output_type": "stream",
     "text": [
      "loading files --\n",
      "loading files -- complete\n",
      "lmax = 1535, thSize = 1842\n",
      "computing for .... \n",
      "Time taken for t = 0: 0.084 min,(0.084 min)\n",
      "Time taken for t = 20: 0.080 min,(1.731 min)\n",
      "Time taken for t = 40: 0.076 min,(3.295 min)\n",
      "Time taken for t = 60: 0.074 min,(4.800 min)\n",
      "Time taken for t = 80: 0.071 min,(6.261 min)\n",
      "Time taken for t = 100: 0.069 min,(7.674 min)\n",
      "Time taken for t = 120: 0.067 min,(9.042 min)\n",
      "Time taken for t = 140: 0.067 min,(10.402 min)\n",
      "Time taken for t = 160: 0.068 min,(11.761 min)\n",
      "Time taken for t = 180: 0.074 min,(13.166 min)\n",
      "Time taken for t = 200: 0.073 min,(14.692 min)\n",
      "Time taken for t = 220: 0.064 min,(16.109 min)\n",
      "Time taken for t = 240: 0.065 min,(17.395 min)\n",
      "Time taken for t = 260: 0.065 min,(18.655 min)\n",
      "Time taken for t = 280: 0.057 min,(19.831 min)\n",
      "Time taken for t = 300: 0.056 min,(20.977 min)\n",
      "Time taken for t = 320: 0.053 min,(22.074 min)\n",
      "Time taken for t = 340: 0.053 min,(23.130 min)\n",
      "Time taken for t = 360: 0.050 min,(24.139 min)\n",
      "Time taken for t = 380: 0.051 min,(25.177 min)\n",
      "Time taken for t = 400: 0.050 min,(26.195 min)\n",
      "Time taken for t = 420: 0.049 min,(27.181 min)\n",
      "Time taken for t = 440: 0.045 min,(28.123 min)\n",
      "Time taken for t = 460: 0.039 min,(28.947 min)\n",
      "Time taken for t = 480: 0.039 min,(29.732 min)\n",
      "Time taken for t = 500: 0.037 min,(30.472 min)\n",
      "Time taken for t = 520: 0.039 min,(31.247 min)\n",
      "Time taken for t = 540: 0.032 min,(31.962 min)\n",
      "Time taken for t = 560: 0.034 min,(32.609 min)\n",
      "Time taken for t = 580: 0.031 min,(33.256 min)\n",
      "Time taken for t = 600: 0.029 min,(33.846 min)\n",
      "Time taken for t = 620: 0.028 min,(34.434 min)\n",
      "Time taken for t = 640: 0.026 min,(34.986 min)\n",
      "Time taken for t = 660: 0.026 min,(35.506 min)\n",
      "Time taken for t = 680: 0.024 min,(35.997 min)\n",
      "Time taken for t = 700: 0.022 min,(36.458 min)\n",
      "Time taken for t = 720: 0.019 min,(36.892 min)\n",
      "Time taken for t = 740: 0.019 min,(37.298 min)\n",
      "Time taken for t = 760: 0.018 min,(37.683 min)\n",
      "Time taken for t = 780: 0.017 min,(38.043 min)\n",
      "Time taken for t = 800: 0.015 min,(38.381 min)\n",
      "Time taken for t = 820: 0.016 min,(38.700 min)\n",
      "Time taken for t = 840: 0.016 min,(38.999 min)\n",
      "Time taken for t = 860: 0.013 min,(39.273 min)\n",
      "Time taken for t = 880: 0.012 min,(39.517 min)\n",
      "Time taken for t = 900: 0.010 min,(39.735 min)\n",
      "Time taken for t = 920: 0.010 min,(39.939 min)\n",
      "Time taken for t = 940: 0.009 min,(40.131 min)\n",
      "Time taken for t = 960: 0.009 min,(40.307 min)\n",
      "Time taken for t = 980: 0.009 min,(40.476 min)\n",
      "Time taken for t = 1000: 0.008 min,(40.632 min)\n",
      "Time taken for t = 1020: 0.009 min,(40.778 min)\n",
      "Time taken for t = 1040: 0.006 min,(40.910 min)\n",
      "Time taken for t = 1060: 0.005 min,(41.029 min)\n",
      "Time taken for t = 1080: 0.005 min,(41.129 min)\n",
      "Time taken for t = 1100: 0.004 min,(41.221 min)\n",
      "Time taken for t = 1120: 0.004 min,(41.301 min)\n",
      "Time taken for t = 1140: 0.003 min,(41.377 min)\n",
      "Time taken for t = 1160: 0.003 min,(41.445 min)\n",
      "Time taken for t = 1180: 0.003 min,(41.504 min)\n",
      "Time taken for t = 1200: 0.003 min,(41.562 min)\n",
      "Time taken for t = 1220: 0.002 min,(41.616 min)\n",
      "Time taken for t = 1240: 0.002 min,(41.662 min)\n",
      "Time taken for t = 1260: 0.002 min,(41.703 min)\n",
      "Time taken for t = 1280: 0.002 min,(41.738 min)\n",
      "Time taken for t = 1300: 0.001 min,(41.769 min)\n",
      "Time taken for t = 1320: 0.001 min,(41.797 min)\n",
      "Time taken for t = 1340: 0.001 min,(41.818 min)\n",
      "Time taken for t = 1360: 0.001 min,(41.838 min)\n",
      "Time taken for t = 1380: 0.001 min,(41.857 min)\n",
      "Time taken for t = 1400: 0.001 min,(41.872 min)\n",
      "Time taken for t = 1420: 0.001 min,(41.889 min)\n",
      "Time taken for t = 1440: 0.001 min,(41.905 min)\n",
      "Time taken for t = 1460: 0.001 min,(41.917 min)\n",
      "Time taken for t = 1480: 0.001 min,(41.930 min)\n",
      "Time taken for t = 1500: 0.000 min,(41.941 min)\n",
      "Time taken for t = 1520: 0.000 min,(41.949 min)\n",
      "Total time taken = 41.954 minutes\n"
     ]
    },
    {
     "data": {
      "application/vnd.jupyter.widget-view+json": {
       "model_id": "39db24d0552b4cdc9f2b2e9d1af55c0e",
       "version_major": 2,
       "version_minor": 0
      },
      "text/plain": [
       "Canvas(toolbar=Toolbar(toolitems=[('Home', 'Reset original view', 'home', 'home'), ('Back', 'Back to previous …"
      ]
     },
     "metadata": {},
     "output_type": "display_data"
    },
    {
     "data": {
      "application/vnd.jupyter.widget-view+json": {
       "model_id": "7a93956c6d9c4ae5a1b55c058ec6a347",
       "version_major": 2,
       "version_minor": 0
      },
      "text/plain": [
       "Canvas(toolbar=Toolbar(toolitems=[('Home', 'Reset original view', 'home', 'home'), ('Back', 'Back to previous …"
      ]
     },
     "metadata": {},
     "output_type": "display_data"
    }
   ],
   "source": [
    "%run inversion.py --synth --magneto --cchpc"
   ]
  },
  {
   "cell_type": "code",
   "execution_count": null,
   "metadata": {},
   "outputs": [],
   "source": [
    "plt.figure()\n",
    "plt.plot(np.random.radn)"
   ]
  },
  {
   "cell_type": "code",
   "execution_count": null,
   "metadata": {},
   "outputs": [],
   "source": []
  }
 ],
 "metadata": {
  "kernelspec": {
   "display_name": "Python 3",
   "language": "python",
   "name": "python3"
  },
  "language_info": {
   "codemirror_mode": {
    "name": "ipython",
    "version": 3
   },
   "file_extension": ".py",
   "mimetype": "text/x-python",
   "name": "python",
   "nbconvert_exporter": "python",
   "pygments_lexer": "ipython3",
   "version": "3.7.3"
  }
 },
 "nbformat": 4,
 "nbformat_minor": 4
}
