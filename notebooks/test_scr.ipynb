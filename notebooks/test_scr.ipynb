{
 "cells": [
  {
   "cell_type": "code",
   "execution_count": 20,
   "metadata": {},
   "outputs": [
    {
     "name": "stdout",
     "output_type": "stream",
     "text": [
      "The autoreload extension is already loaded. To reload it, use:\n",
      "  %reload_ext autoreload\n"
     ]
    }
   ],
   "source": [
    "import numpy as np\n",
    "import matplotlib.pyplot as plt\n",
    "import warnings\n",
    "warnings.filterwarnings('ignore')\n",
    "%matplotlib widget \n",
    "%load_ext autoreload\n",
    "%autoreload 2"
   ]
  },
  {
   "cell_type": "code",
   "execution_count": 21,
   "metadata": {},
   "outputs": [
    {
     "name": "stdout",
     "output_type": "stream",
     "text": [
      "/home/g.samarth/dopplervel2\n"
     ]
    }
   ],
   "source": [
    "cd dopplervel2/"
   ]
  },
  {
   "cell_type": "code",
   "execution_count": 83,
   "metadata": {},
   "outputs": [
    {
     "name": "stdout",
     "output_type": "stream",
     "text": [
      "Reading /scratch/seismogroup/data/HMI/ME_720s_fd10/hmi.ME_720s_fd10.20200501_000000_TAI.field.fits\n",
      "Reading /scratch/seismogroup/data/HMI/ME_720s_fd10/hmi.ME_720s_fd10.20200501_000000_TAI.azimuth.fits\n",
      "Reading /scratch/seismogroup/data/HMI/ME_720s_fd10/hmi.ME_720s_fd10.20200501_000000_TAI.inclination.fits\n",
      "Making LOS maps healPy\n",
      "Time taken to make LOS map = 5.00 minutes\n",
      " \n",
      "Making vector maps healPy\n",
      "Time taken to make vector maps = 5.20 minutes\n"
     ]
    }
   ],
   "source": [
    "%run vec_magneto.py"
   ]
  },
  {
   "cell_type": "code",
   "execution_count": null,
   "metadata": {},
   "outputs": [
    {
     "name": "stdout",
     "output_type": "stream",
     "text": [
      "loading files --\n",
      "loading files -- complete\n",
      "lmax = 1535, thSize = 1842\n",
      "computing for .... \n",
      "Time taken for t = 0: 0.115 min,(0.115 min)\n",
      "Time taken for t = 20: 0.106 min,(2.325 min)\n",
      "Time taken for t = 40: 0.101 min,(4.447 min)\n",
      "Time taken for t = 60: 0.099 min,(6.507 min)\n",
      "Time taken for t = 80: 0.098 min,(8.499 min)\n",
      "Time taken for t = 100: 0.093 min,(10.408 min)\n",
      "Time taken for t = 120: 0.088 min,(12.267 min)\n",
      "Time taken for t = 140: 0.085 min,(14.046 min)\n",
      "Time taken for t = 160: 0.086 min,(15.744 min)\n",
      "Time taken for t = 180: 0.085 min,(17.463 min)\n",
      "Time taken for t = 200: 0.090 min,(19.296 min)\n",
      "Time taken for t = 220: 0.079 min,(21.053 min)\n",
      "Time taken for t = 240: 0.074 min,(22.599 min)\n",
      "Time taken for t = 260: 0.073 min,(24.103 min)\n",
      "Time taken for t = 280: 0.069 min,(25.525 min)\n",
      "Time taken for t = 300: 0.068 min,(26.901 min)\n",
      "Time taken for t = 320: 0.058 min,(28.182 min)\n",
      "Time taken for t = 340: 0.054 min,(29.297 min)\n",
      "Time taken for t = 360: 0.050 min,(30.372 min)\n",
      "Time taken for t = 380: 0.049 min,(31.409 min)\n"
     ]
    }
   ],
   "source": [
    "%run inversion.py --synth --magneto --cchpc"
   ]
  },
  {
   "cell_type": "code",
   "execution_count": 87,
   "metadata": {},
   "outputs": [
    {
     "name": "stdout",
     "output_type": "stream",
     "text": [
      "/home/g.samarth/dopplervel2\n"
     ]
    }
   ],
   "source": []
  },
  {
   "cell_type": "code",
   "execution_count": 81,
   "metadata": {},
   "outputs": [
    {
     "data": {
      "text/plain": [
       "array([   0,    1,    2, ..., 3070, 3071, 3071])"
      ]
     },
     "execution_count": 81,
     "metadata": {},
     "output_type": "execute_result"
    }
   ],
   "source": [
    "ellArr"
   ]
  },
  {
   "cell_type": "code",
   "execution_count": null,
   "metadata": {},
   "outputs": [],
   "source": []
  }
 ],
 "metadata": {
  "kernelspec": {
   "display_name": "Python 3",
   "language": "python",
   "name": "python3"
  },
  "language_info": {
   "codemirror_mode": {
    "name": "ipython",
    "version": 3
   },
   "file_extension": ".py",
   "mimetype": "text/x-python",
   "name": "python",
   "nbconvert_exporter": "python",
   "pygments_lexer": "ipython3",
   "version": "3.7.3"
  }
 },
 "nbformat": 4,
 "nbformat_minor": 4
}
