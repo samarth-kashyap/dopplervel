{
 "cells": [
  {
   "cell_type": "code",
   "execution_count": 1,
   "metadata": {},
   "outputs": [],
   "source": [
    "import numpy as np\n",
    "import matplotlib.pyplot as plt\n",
    "import warnings\n",
    "warnings.filterwarnings('ignore')\n",
    "%load_ext autoreload\n",
    "%autoreload 2"
   ]
  },
  {
   "cell_type": "code",
   "execution_count": 2,
   "metadata": {},
   "outputs": [],
   "source": [
    "%matplotlib widget"
   ]
  },
  {
   "cell_type": "code",
   "execution_count": null,
   "metadata": {},
   "outputs": [],
   "source": [
    "a = np.random.rand(10, 20)\n",
    "freq = np.linspace(100, 200, 311)\n",
    "a = a[:, :, np.newaxis]\n",
    "freq = freq[np.newaxis, np.newaxis, :]\n",
    "c = a*freq\n",
    "d = np.random.rand(10, 20)\n",
    "(d.dot(c)).shape"
   ]
  },
  {
   "cell_type": "code",
   "execution_count": 5,
   "metadata": {},
   "outputs": [
    {
     "name": "stdout",
     "output_type": "stream",
     "text": [
      "Time taken for computation (positive m) =   7.13 seconds\n",
      "[ -1.18624713   0.35825508  -4.29080195   1.80035342   0.14710785\n",
      "   0.15916908   0.60109033   0.97242661   0.91761365   0.5224326\n",
      "  -0.13678034  -1.47853348 -12.17652726]\n",
      "=================================================\n",
      "Total time taken =  0.52 min\n"
     ]
    },
    {
     "data": {
      "application/vnd.jupyter.widget-view+json": {
       "model_id": "01a053c4663a4f37b5b15213aec4f5f3",
       "version_major": 2,
       "version_minor": 0
      },
      "text/plain": [
       "Canvas(toolbar=Toolbar(toolitems=[('Home', 'Reset original view', 'home', 'home'), ('Back', 'Back to previous …"
      ]
     },
     "metadata": {},
     "output_type": "display_data"
    }
   ],
   "source": [
    "run cs_fit.py"
   ]
  },
  {
   "cell_type": "code",
   "execution_count": 11,
   "metadata": {},
   "outputs": [
    {
     "data": {
      "application/vnd.jupyter.widget-view+json": {
       "model_id": "98415347de974494a4146d2027620c24",
       "version_major": 2,
       "version_minor": 0
      },
      "text/plain": [
       "Canvas(toolbar=Toolbar(toolitems=[('Home', 'Reset original view', 'home', 'home'), ('Back', 'Back to previous …"
      ]
     },
     "metadata": {},
     "output_type": "display_data"
    }
   ],
   "source": [
    "fig = plt.figure(figsize=(12, 5))\n",
    "plt.rc(\"text\", usetex=\"True\")\n",
    "plt.rc(\"font\", family=\"serif\", size=\"12\")\n",
    "plt.plot(CS.freq_data, css_bf.real * norm_bf, '--', color='blue', alpha=0.9, label='synthetic - before fit')\n",
    "plt.plot(CS.freq_data, css_lf.real * norm_lf, '--', color='red', alpha=0.9, label='synthetic - after fitting N_i')\n",
    "plt.plot(CS.freq_data, csd.real, color='black', label='data')\n",
    "#plt.xlabel(\"$\\omega$ in $\\mu$Hz\")\n",
    "plt.legend(loc='lower left')\n",
    "plt.show(fig)"
   ]
  },
  {
   "cell_type": "code",
   "execution_count": null,
   "metadata": {},
   "outputs": [],
   "source": [
    "plt.legend(fig)"
   ]
  },
  {
   "cell_type": "code",
   "execution_count": null,
   "metadata": {},
   "outputs": [],
   "source": [
    "def plot_all2(ust, vst, wst, lmin, lmax):\n",
    "    xst = np.arange(lmax+1)\n",
    "\n",
    "    fig1 = plt.figure(figsize=(10, 10))\n",
    "#    plt.rcParams.update({'font.size': 20})\n",
    "    plt.rc(\"text\", usetex=True)\n",
    "    plt.rc(\"font\", family=\"serif\", size=\"20\")\n",
    "    plt.title(\" Total power summed over $s_{min}$ =\" + f\" {lmin},\" +\"$s_{max}$ = \" + f\"{lmax}\")\n",
    "    plt.semilogy(xst, ust.sum(axis=1)/NTIME, 'g', label='radial')\n",
    "    plt.semilogy(xst, vst.sum(axis=1)/NTIME, 'r', label='poloidal')\n",
    "    plt.semilogy(xst, wst.sum(axis=1)/NTIME, 'b', label='toroidal')\n",
    "    plt.xlabel(\"$s - |t|$\")\n",
    "    plt.ylabel(\"Total Power in ms$^{-1}$\")\n",
    "    plt.legend()\n",
    "    \n",
    "\n",
    "    fig2 = plt.figure(figsize=(10, 10))\n",
    "#    plt.rcParams.update({'font.size': 20})\n",
    "    plt.rc(\"text\", usetex=True)\n",
    "    plt.rc(\"font\", family=\"serif\", size=\"20\")\n",
    "    plt.title(\" Total power summed over $s_{min}$ =\" + f\" {lmin},\" +\"$s_{max}$ = \" + f\"{lmax}\")\n",
    "    plt.plot(xst, ust.sum(axis=1)/NTIME, 'g', label='radial')\n",
    "    plt.plot(xst, vst.sum(axis=1)/NTIME, 'r', label='poloidal')\n",
    "    plt.plot(xst, wst.sum(axis=1)/NTIME, 'b', label='toroidal')\n",
    "    plt.xlabel(\"$s - |t|$\")\n",
    "    plt.ylabel(\"Total Power in ms$^{-1}$\")\n",
    "    plt.legend()\n",
    "    return fig1, fig2\n",
    "# }}} plot_all(ust, vst, wst, lmin, lmax)\n"
   ]
  },
  {
   "cell_type": "code",
   "execution_count": null,
   "metadata": {},
   "outputs": [],
   "source": [
    "fig1, fig2 = plot_all2(ust, vst, wst, 0, 50)"
   ]
  },
  {
   "cell_type": "code",
   "execution_count": null,
   "metadata": {},
   "outputs": [],
   "source": [
    "#plt.figure()\n",
    "#plt.plot(np.random.rand(10))\n",
    "#plt.show()\n",
    "%system which latex"
   ]
  },
  {
   "cell_type": "code",
   "execution_count": 9,
   "metadata": {},
   "outputs": [
    {
     "data": {
      "application/vnd.jupyter.widget-view+json": {
       "model_id": "476ac71d114349b8bcde88baa31e05e5",
       "version_major": 2,
       "version_minor": 0
      },
      "text/plain": [
       "Canvas(toolbar=Toolbar(toolitems=[('Home', 'Reset original view', 'home', 'home'), ('Back', 'Back to previous …"
      ]
     },
     "metadata": {},
     "output_type": "display_data"
    }
   ],
   "source": [
    "plt.figure()\n",
    "plt.plot(np.random.rand(20), 'r', label='asdf')\n",
    "plt.legend()\n",
    "plt.show()"
   ]
  },
  {
   "cell_type": "code",
   "execution_count": null,
   "metadata": {},
   "outputs": [],
   "source": [
    "%run inversion.py --synth --magneto --cchpc --gnup 10 --reg 47e-6"
   ]
  },
  {
   "cell_type": "code",
   "execution_count": null,
   "metadata": {},
   "outputs": [],
   "source": [
    "plt.figure()\n",
    "plt.imshow(abs(cs), aspect=cs.shape[1]/cs.shape[0], vmax=abs(cs).max()/5, cmap=\"Greys\")#plt.get_cmap(\"Greys\"))\n",
    "plt.show()"
   ]
  },
  {
   "cell_type": "code",
   "execution_count": null,
   "metadata": {},
   "outputs": [],
   "source": [
    "cd dopplervel2/"
   ]
  },
  {
   "cell_type": "code",
   "execution_count": null,
   "metadata": {},
   "outputs": [],
   "source": [
    "fig = plt.figure()\n",
    "plt.plot(np.random.rand(100))\n",
    "fig.savefig(\"/scratch/g.samarth/temp.png\")\n",
    "plt.close(fig)"
   ]
  },
  {
   "cell_type": "code",
   "execution_count": null,
   "metadata": {},
   "outputs": [],
   "source": [
    "dir(fig)"
   ]
  },
  {
   "cell_type": "code",
   "execution_count": null,
   "metadata": {},
   "outputs": [],
   "source": [
    "cd dopplervel2"
   ]
  },
  {
   "cell_type": "code",
   "execution_count": null,
   "metadata": {},
   "outputs": [],
   "source": [
    "plt.figure()\n",
    "plt.rc('text', usetex=True)\n",
    "plt.rc('font', family='sans-serif', size='12')\n",
    "plt.plot(np.random.rand(100))\n",
    "plt.xlabel(\"$r/R_{\\odot}$\")\n",
    "plt.ylabel(\"$\\frac{\\partial f}{\\partial g}\")\n",
    "plt.show()\n",
    "plt.close()"
   ]
  },
  {
   "cell_type": "code",
   "execution_count": null,
   "metadata": {},
   "outputs": [],
   "source": [
    "th_dir = \"/home/g.samarth/dopplervel2/datafiles/\"\n",
    "uth = np.loadtxt(th_dir + \"green.csv\", delimiter=\",\")\n",
    "vth = np.loadtxt(th_dir + \"red.csv\", delimiter=\",\")\n",
    "wth = np.loadtxt(th_dir + \"blue.csv\", delimiter=\",\")\n",
    "data_dir = \"/scratch/g.samarth/HMIDATA/data_analysis/lmax1535/\"\n",
    "pow = np.load(data_dir+\"power.final188.npz\")\n",
    "upow, vpow, wpow = pow['upow'], pow['vpow'], pow['wpow']\n",
    "fac = 1.0 # 2.8\n",
    "lmax_calc = 1535\n",
    "plt.figure(figsize=(13, 10))\n",
    "plt.rc(\"text\", usetex=True)\n",
    "plt.rc(\"font\", family=\"serif\", size=\"20\")\n",
    "#plt.loglog(uth[:, 0], uth[:, 1],'--g', label='radial')\n",
    "#plt.loglog(vth[:, 0], vth[:, 1],'--r', label='poloidal')\n",
    "#plt.loglog(wth[:, 0], wth[:, 1],'--b', label='toroidal')\n",
    "plt.loglog(fac*upow[:lmax_calc], 'g', label='radial')\n",
    "plt.loglog(fac*vpow[:lmax_calc], 'r', label='poloidal')\n",
    "plt.loglog(fac*wpow[:lmax_calc], 'b', label='toroidal')\n",
    "plt.xlabel(\"Spherical harmonic degree $l$\")\n",
    "plt.ylabel(\"Velocity in ms$^{-1}$\")\n",
    "plt.legend()\n",
    "plt.savefig(data_dir + \"ps\"+suffix+\".png\")\n",
    "plt.show()\n"
   ]
  },
  {
   "cell_type": "code",
   "execution_count": null,
   "metadata": {},
   "outputs": [],
   "source": []
  }
 ],
 "metadata": {
  "kernelspec": {
   "display_name": "Python 3",
   "language": "python",
   "name": "python3"
  },
  "language_info": {
   "codemirror_mode": {
    "name": "ipython",
    "version": 3
   },
   "file_extension": ".py",
   "mimetype": "text/x-python",
   "name": "python",
   "nbconvert_exporter": "python",
   "pygments_lexer": "ipython3",
   "version": "3.7.3"
  }
 },
 "nbformat": 4,
 "nbformat_minor": 4
}
