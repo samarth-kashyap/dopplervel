{
 "cells": [
  {
   "cell_type": "code",
   "execution_count": 20,
   "metadata": {},
   "outputs": [
    {
     "name": "stdout",
     "output_type": "stream",
     "text": [
      "The autoreload extension is already loaded. To reload it, use:\n",
      "  %reload_ext autoreload\n"
     ]
    }
   ],
   "source": [
    "import numpy as np\n",
    "import matplotlib.pyplot as plt\n",
    "import warnings\n",
    "warnings.filterwarnings('ignore')\n",
    "%matplotlib widget \n",
    "%load_ext autoreload\n",
    "%autoreload 2"
   ]
  },
  {
   "cell_type": "code",
   "execution_count": 21,
   "metadata": {},
   "outputs": [
    {
     "name": "stdout",
     "output_type": "stream",
     "text": [
      "/home/g.samarth/dopplervel2\n"
     ]
    }
   ],
   "source": [
    "cd dopplervel2/"
   ]
  },
  {
   "cell_type": "code",
   "execution_count": 77,
   "metadata": {},
   "outputs": [
    {
     "name": "stdout",
     "output_type": "stream",
     "text": [
      "Reading /scratch/seismogroup/data/HMI/ME_720s_fd10/hmi.ME_720s_fd10.20200501_000000_TAI.field.fits\n",
      "Reading /scratch/seismogroup/data/HMI/ME_720s_fd10/hmi.ME_720s_fd10.20200501_000000_TAI.azimuth.fits\n",
      "Reading /scratch/seismogroup/data/HMI/ME_720s_fd10/hmi.ME_720s_fd10.20200501_000000_TAI.inclination.fits\n",
      "Making LOS maps healPy\n",
      "Time taken to make LOS map = 5.46 minutes\n",
      " \n",
      "Making vector maps healPy\n",
      "Time taken to make vector maps = 5.80 minutes\n"
     ]
    }
   ],
   "source": [
    "%run vec_magneto.py"
   ]
  },
  {
   "cell_type": "code",
   "execution_count": 74,
   "metadata": {},
   "outputs": [
    {
     "name": "stdout",
     "output_type": "stream",
     "text": [
      "Time taken to make map = 4.75 minutes\n"
     ]
    }
   ],
   "source": []
  },
  {
   "cell_type": "code",
   "execution_count": null,
   "metadata": {},
   "outputs": [],
   "source": []
  }
 ],
 "metadata": {
  "kernelspec": {
   "display_name": "Python 3",
   "language": "python",
   "name": "python3"
  },
  "language_info": {
   "codemirror_mode": {
    "name": "ipython",
    "version": 3
   },
   "file_extension": ".py",
   "mimetype": "text/x-python",
   "name": "python",
   "nbconvert_exporter": "python",
   "pygments_lexer": "ipython3",
   "version": "3.7.3"
  }
 },
 "nbformat": 4,
 "nbformat_minor": 4
}
