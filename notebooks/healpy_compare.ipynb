{
 "cells": [
  {
   "cell_type": "code",
   "execution_count": null,
   "metadata": {},
   "outputs": [],
   "source": []
  },
  {
   "cell_type": "code",
   "execution_count": 17,
   "metadata": {},
   "outputs": [],
   "source": [
    "from scipy.spatial.transform import Rotation as R\n",
    "from heliosPy import iofuncs as cio\n",
    "from astropy.io import fits\n",
    "from math import sqrt, pi\n",
    "import healpy as hp\n",
    "import numpy as np\n",
    "import pickle\n",
    "import time\n",
    "\n",
    "import matplotlib.pyplot as plt\n",
    "%matplotlib widget\n",
    "\n",
    "NSIDE = 256\n",
    "NPIX = hp.nside2npix(NSIDE)"
   ]
  },
  {
   "cell_type": "code",
   "execution_count": 22,
   "metadata": {},
   "outputs": [],
   "source": [
    "class sphSignal():\n",
    "    \"\"\"A class for signals on a sphere.\n",
    "    \n",
    "    \"\"\"\n",
    "    def init_th_ph(self):\n",
    "        pix1d = int(sqrt(self.NPIX))\n",
    "        sinth1 = np.linspace(0, 1, pix1d//2)\n",
    "        sinth2 = np.linspace(1, 0, pix1d//2) if pix1d%2==0 else np.linspace(1, 0, pix1d//2+1)\n",
    "        sinth = np.append(sinth1, sinth2); del sinth1, sinth2\n",
    "        th[pix1d//2:] = pi - th[pix1d//2:]\n",
    "        \n",
    "        ph = np.linspace(0, 2*pi, 2*pix1d)\n",
    "        \n",
    "        self.th = th\n",
    "        self.ph = ph\n",
    "        return th, ph\n",
    "        \n",
    "    def __init__(self, nside):\n",
    "        self.NSIDE = nside\n",
    "        self.NPIX = hp.nside2npix(self.NSIDE)\n",
    "        self.th, self.ph = self.init_th_ph()\n",
    "        \n",
    "        "
   ]
  },
  {
   "cell_type": "code",
   "execution_count": 33,
   "metadata": {},
   "outputs": [],
   "source": [
    "sinth1 = np.linspace(0, 1, pix1d//2)\n",
    "sinth2 = np.linspace(1, 0, pix1d//2) if pix1d%2==0 else np.linspace(1, 0, pix1d//2+1)\n",
    "sinth = np.append(sinth1, sinth2); del sinth1, sinth2\n",
    "th = np.arcsin(sinth)\n",
    "ph = np.linspace(0, 2*pi, 2*pix1d)"
   ]
  },
  {
   "cell_type": "code",
   "execution_count": 37,
   "metadata": {},
   "outputs": [
    {
     "data": {
      "text/plain": [
       "[<matplotlib.lines.Line2D at 0x7f5da929b7b8>]"
      ]
     },
     "execution_count": 37,
     "metadata": {},
     "output_type": "execute_result"
    },
    {
     "data": {
      "image/png": "[encoded data removed]",
      "text/plain": [
       "<Figure size 432x288 with 1 Axes>"
      ]
     },
     "metadata": {
      "needs_background": "light"
     },
     "output_type": "display_data"
    }
   ],
   "source": [
    "plt.plot(th)"
   ]
  },
  {
   "cell_type": "code",
   "execution_count": 20,
   "metadata": {},
   "outputs": [],
   "source": []
  },
  {
   "cell_type": "code",
   "execution_count": null,
   "metadata": {},
   "outputs": [],
   "source": []
  }
 ],
 "metadata": {
  "kernelspec": {
   "display_name": "Python 3",
   "language": "python",
   "name": "python3"
  },
  "language_info": {
   "codemirror_mode": {
    "name": "ipython",
    "version": 3
   },
   "file_extension": ".py",
   "mimetype": "text/x-python",
   "name": "python",
   "nbconvert_exporter": "python",
   "pygments_lexer": "ipython3",
   "version": "3.7.3"
  }
 },
 "nbformat": 4,
 "nbformat_minor": 4
}
