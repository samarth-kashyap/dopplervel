{
 "cells": [
  {
   "cell_type": "code",
   "execution_count": null,
   "metadata": {},
   "outputs": [],
   "source": []
  },
  {
   "cell_type": "code",
   "execution_count": 2,
   "metadata": {},
   "outputs": [],
   "source": [
    "%matplotlib widget"
   ]
  },
  {
   "cell_type": "markdown",
   "metadata": {},
   "source": [
    "* Generate new leakage matrices"
   ]
  },
  {
   "cell_type": "code",
   "execution_count": null,
   "metadata": {},
   "outputs": [],
   "source": [
    "run /home/g.samarth/leakage/readleakage_mod.py"
   ]
  },
  {
   "cell_type": "markdown",
   "metadata": {},
   "source": [
    "* Compare leakage matrices"
   ]
  },
  {
   "cell_type": "code",
   "execution_count": null,
   "metadata": {},
   "outputs": [],
   "source": [
    "run ~/leakage/readleakage_jesper.py"
   ]
  },
  {
   "cell_type": "code",
   "execution_count": null,
   "metadata": {},
   "outputs": [],
   "source": [
    "close_mpl_fig(fig)"
   ]
  },
  {
   "cell_type": "markdown",
   "metadata": {},
   "source": [
    "* Plot power spectrum "
   ]
  },
  {
   "cell_type": "code",
   "execution_count": 23,
   "metadata": {},
   "outputs": [
    {
     "name": "stdout",
     "output_type": "stream",
     "text": [
      " norms_exist = False\n",
      "Computing synth\n",
      " locatefreq: index not found 1.39332e+03, minfreq = 1.39836e+03, maxfreq = 1.46829e+03\n",
      "(7.782262659853013e-05+0j)\n"
     ]
    },
    {
     "data": {
      "application/vnd.jupyter.widget-view+json": {
       "model_id": "84ec0fd301a849a8986b59837a3ea409",
       "version_major": 2,
       "version_minor": 0
      },
      "text/plain": [
       "Canvas(toolbar=Toolbar(toolitems=[('Home', 'Reset original view', 'home', 'home'), ('Back', 'Back to previous …"
      ]
     },
     "metadata": {},
     "output_type": "display_data"
    },
    {
     "name": "stdout",
     "output_type": "stream",
     "text": [
      " cnl = (6.752527093052414e-08+5.027030400580826e-26j)\n",
      "Removing temp file /scratch/g.samarth/csfit/csp_synth_00_202_202norm.npy\n",
      "Removing temp file /scratch/g.samarth/csfit/csm_synth_00_202_202norm.npy\n",
      "Removing temp file /scratch/g.samarth/csfit/freq_synth_00_202_202norm.npy\n"
     ]
    }
   ],
   "source": [
    "run /home/g.samarth/csfit/compute_norms.py --l 202 --n 0 --force"
   ]
  },
  {
   "cell_type": "code",
   "execution_count": null,
   "metadata": {},
   "outputs": [],
   "source": [
    "def close_mpl_fig(fig):\n",
    "    plt.close(fig)\n",
    "    del fig\n",
    "    return None"
   ]
  },
  {
   "cell_type": "code",
   "execution_count": 18,
   "metadata": {},
   "outputs": [
    {
     "data": {
      "application/vnd.jupyter.widget-view+json": {
       "model_id": "b4edb4aa9086453698bd3d3229265f5d",
       "version_major": 2,
       "version_minor": 0
      },
      "text/plain": [
       "Canvas(toolbar=Toolbar(toolitems=[('Home', 'Reset original view', 'home', 'home'), ('Back', 'Back to previous …"
      ]
     },
     "metadata": {},
     "output_type": "display_data"
    }
   ],
   "source": [
    "fig = plot_cs_sum(cs_data_sum.real, cs_synth_sum.real, dcshift.real, norm.real*1.08, freq_synth.real,\n",
    "                  freq_data.real, cenfreq.real, csm_data_sum.real, csm_synth_sum.real, dcmshift.real)\n",
    "plt.show(fig)"
   ]
  },
  {
   "cell_type": "code",
   "execution_count": 27,
   "metadata": {},
   "outputs": [
    {
     "name": "stdout",
     "output_type": "stream",
     "text": [
      "Reading leakage matrix   -- DONE. Time taken =   0.00 seconds\n",
      " indm, indp = (8127, 9620)\n",
      " dl = 6; dm = 15\n",
      "Time taken for computation (positive m) =   6.57 seconds\n",
      "Time taken for computation (negative m) =   6.57 seconds\n",
      " indm, indp = (591, 902)\n",
      "Time taken =   6.974 seconds\n"
     ]
    },
    {
     "data": {
      "application/vnd.jupyter.widget-view+json": {
       "model_id": "874041c602174a958ee49960f616192e",
       "version_major": 2,
       "version_minor": 0
      },
      "text/plain": [
       "Canvas(toolbar=Toolbar(toolitems=[('Home', 'Reset original view', 'home', 'home'), ('Back', 'Back to previous …"
      ]
     },
     "metadata": {},
     "output_type": "display_data"
    }
   ],
   "source": [
    "run /home/g.samarth/csfit/cross_spectra_synth.py --l 200 --lp 202 --n 0 --np 0 --plot"
   ]
  },
  {
   "cell_type": "code",
   "execution_count": null,
   "metadata": {},
   "outputs": [],
   "source": []
  }
 ],
 "metadata": {
  "kernelspec": {
   "display_name": "Python 3",
   "language": "python",
   "name": "python3"
  },
  "language_info": {
   "codemirror_mode": {
    "name": "ipython",
    "version": 3
   },
   "file_extension": ".py",
   "mimetype": "text/x-python",
   "name": "python",
   "nbconvert_exporter": "python",
   "pygments_lexer": "ipython3",
   "version": "3.7.6"
  }
 },
 "nbformat": 4,
 "nbformat_minor": 4
}
